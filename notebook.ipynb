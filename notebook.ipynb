{
 "cells": [
  {
   "cell_type": "code",
   "execution_count": 1,
   "id": "46f03f274a8ca3a0",
   "metadata": {
    "ExecuteTime": {
     "end_time": "2025-03-07T12:15:56.519080Z",
     "start_time": "2025-03-07T12:15:56.513065Z"
    }
   },
   "outputs": [
    {
     "name": "stderr",
     "output_type": "stream",
     "text": [
      "/home/emil/anaconda3/lib/python3.11/site-packages/pandas/core/arrays/masked.py:60: UserWarning: Pandas requires version '1.3.6' or newer of 'bottleneck' (version '1.3.5' currently installed).\n",
      "  from pandas.core import (\n"
     ]
    }
   ],
   "source": [
    "import pandas as pd\n",
    "import numpy as np\n",
    "import time\n",
    "from datetime import timedelta,datetime"
   ]
  },
  {
   "cell_type": "code",
   "execution_count": 63,
   "id": "870fe3df48879b4",
   "metadata": {
    "ExecuteTime": {
     "end_time": "2025-03-07T14:20:58.383854Z",
     "start_time": "2025-03-07T14:20:58.370233Z"
    }
   },
   "outputs": [],
   "source": [
    "def data_split(df,well_id_int=6110299100,param_id_list=[188,200],package_size=50000, leftcut=5000):\n",
    "    \n",
    "    df=df.query('well_id == @well_id_int and param_id in @param_id_list')\n",
    "    del df['well_id']\n",
    "    # Устанавливаем tm_time как индекс\n",
    "    df.set_index('tm_time', inplace=True)\n",
    "\n",
    "    # Отсортируем по индексу\n",
    "    df.sort_index(inplace=True)\n",
    "\n",
    "    # Преобразование с помощью pivot\n",
    "    df = df.pivot(columns='param_id', values='tm_value')\n",
    "\n",
    "    # убираем верхний индекс param_id\n",
    "    #df.columns.rename(None, inplace=True)\n",
    "\n",
    "    \n",
    "    # Интерполирование к частоте в 1 секунду\n",
    "    df = df.resample('1s').mean().interpolate(method='linear', limit_direction='both')\n",
    "    \n",
    "    packages = []\n",
    "    current_packet = pd.DataFrame()  # Изначально пустой пакет\n",
    "    num_points = len(df)\n",
    "\n",
    "    # Идем по ряду с шагом package_size\n",
    "    for i in range(0, num_points, package_size):\n",
    "        # Берем кусок данных длиной package_size\n",
    "        package = df[i:i + package_size]\n",
    "\n",
    "         # Добавляем новые точки к текущему пакету\n",
    "        current_packet = pd.concat([current_packet[leftcut:], package])\n",
    "\n",
    "        # Добавляем пакет в список\n",
    "        packages.append(current_packet)\n",
    "\n",
    "    return packages    "
   ]
  },
  {
   "cell_type": "code",
   "execution_count": 3,
   "id": "3e833d2a8a6b7ba9",
   "metadata": {
    "ExecuteTime": {
     "end_time": "2025-03-07T12:16:01.715211Z",
     "start_time": "2025-03-07T12:16:01.707415Z"
    }
   },
   "outputs": [],
   "source": [
    "def interpolate_to_1_second(df):\n",
    "    \"\"\" Интерполяция временного ряда до частоты 1 секунда. :param df:\n",
    "    Исходный DataFrame с временными метками и значениями :return: Новый DataFrame с интервалом в 1 секунду \"\"\"\n",
    "    interpolated_df = df.resample('1s').mean().interpolate(method='linear', limit_direction='both')\n",
    "    return interpolated_df"
   ]
  },
  {
   "cell_type": "code",
   "execution_count": 4,
   "id": "f343ec3eba910fcd",
   "metadata": {
    "ExecuteTime": {
     "end_time": "2025-03-07T03:58:07.401494Z",
     "start_time": "2025-03-07T03:58:07.393009Z"
    }
   },
   "outputs": [],
   "source": [
    "def package_split(df, package_size=1, leftcut=0):\n",
    "    \"\"\" Разбивает временной ряд на пакеты заданного размера. :param df:\n",
    "    Pandas Series или DataFrame с временными метками :param package_size: \n",
    "    Размер каждого пакета (количество точек) :param leftcut: срез слева :\n",
    "    return: Список пакетов (каждый пакет является DataFrame) \"\"\"\n",
    "    packages = []\n",
    "    current_packet = pd.DataFrame()  # Изначально пустой пакет\n",
    "    num_points = len(df)\n",
    "\n",
    "    # Идем по ряду с шагом package_size\n",
    "    for i in range(0, num_points, package_size):\n",
    "        # Берем кусок данных длиной package_size\n",
    "        package = df[i:i + package_size]\n",
    "\n",
    "         # Добавляем новые точки к текущему пакету\n",
    "        current_packet = pd.concat([current_packet[leftcut:], package])\n",
    "\n",
    "        # Добавляем пакет в список\n",
    "        packages.append(current_packet)\n",
    "\n",
    "    return packages\n"
   ]
  },
  {
   "cell_type": "code",
   "execution_count": 64,
   "id": "41b7e832",
   "metadata": {},
   "outputs": [
    {
     "data": {
      "text/html": [
       "<div>\n",
       "<style scoped>\n",
       "    .dataframe tbody tr th:only-of-type {\n",
       "        vertical-align: middle;\n",
       "    }\n",
       "\n",
       "    .dataframe tbody tr th {\n",
       "        vertical-align: top;\n",
       "    }\n",
       "\n",
       "    .dataframe thead th {\n",
       "        text-align: right;\n",
       "    }\n",
       "</style>\n",
       "<table border=\"1\" class=\"dataframe\">\n",
       "  <thead>\n",
       "    <tr style=\"text-align: right;\">\n",
       "      <th></th>\n",
       "      <th>well_id</th>\n",
       "      <th>param_id</th>\n",
       "      <th>tm_time</th>\n",
       "      <th>tm_value</th>\n",
       "    </tr>\n",
       "  </thead>\n",
       "  <tbody>\n",
       "    <tr>\n",
       "      <th>0</th>\n",
       "      <td>6110299100</td>\n",
       "      <td>220</td>\n",
       "      <td>1969-06-29 13:14:08</td>\n",
       "      <td>0.0</td>\n",
       "    </tr>\n",
       "    <tr>\n",
       "      <th>1</th>\n",
       "      <td>6110299100</td>\n",
       "      <td>220</td>\n",
       "      <td>1969-06-29 13:14:38</td>\n",
       "      <td>0.0</td>\n",
       "    </tr>\n",
       "    <tr>\n",
       "      <th>2</th>\n",
       "      <td>6110299100</td>\n",
       "      <td>220</td>\n",
       "      <td>1969-06-29 13:15:08</td>\n",
       "      <td>0.0</td>\n",
       "    </tr>\n",
       "    <tr>\n",
       "      <th>3</th>\n",
       "      <td>6110299100</td>\n",
       "      <td>220</td>\n",
       "      <td>1969-06-29 13:15:38</td>\n",
       "      <td>0.0</td>\n",
       "    </tr>\n",
       "    <tr>\n",
       "      <th>4</th>\n",
       "      <td>6110299100</td>\n",
       "      <td>220</td>\n",
       "      <td>1969-06-29 13:16:08</td>\n",
       "      <td>0.0</td>\n",
       "    </tr>\n",
       "    <tr>\n",
       "      <th>...</th>\n",
       "      <td>...</td>\n",
       "      <td>...</td>\n",
       "      <td>...</td>\n",
       "      <td>...</td>\n",
       "    </tr>\n",
       "    <tr>\n",
       "      <th>15497320</th>\n",
       "      <td>2860194100</td>\n",
       "      <td>401</td>\n",
       "      <td>1969-06-29 23:58:03</td>\n",
       "      <td>35.7</td>\n",
       "    </tr>\n",
       "    <tr>\n",
       "      <th>15497321</th>\n",
       "      <td>2860194100</td>\n",
       "      <td>401</td>\n",
       "      <td>1969-06-29 23:58:33</td>\n",
       "      <td>35.1</td>\n",
       "    </tr>\n",
       "    <tr>\n",
       "      <th>15497322</th>\n",
       "      <td>2860194100</td>\n",
       "      <td>401</td>\n",
       "      <td>1969-06-29 23:59:03</td>\n",
       "      <td>0.0</td>\n",
       "    </tr>\n",
       "    <tr>\n",
       "      <th>15497323</th>\n",
       "      <td>2860194100</td>\n",
       "      <td>401</td>\n",
       "      <td>1969-06-29 23:59:04</td>\n",
       "      <td>0.0</td>\n",
       "    </tr>\n",
       "    <tr>\n",
       "      <th>15497324</th>\n",
       "      <td>2860194100</td>\n",
       "      <td>401</td>\n",
       "      <td>1969-06-29 23:59:33</td>\n",
       "      <td>0.0</td>\n",
       "    </tr>\n",
       "  </tbody>\n",
       "</table>\n",
       "<p>15497325 rows × 4 columns</p>\n",
       "</div>"
      ],
      "text/plain": [
       "             well_id  param_id             tm_time  tm_value\n",
       "0         6110299100       220 1969-06-29 13:14:08       0.0\n",
       "1         6110299100       220 1969-06-29 13:14:38       0.0\n",
       "2         6110299100       220 1969-06-29 13:15:08       0.0\n",
       "3         6110299100       220 1969-06-29 13:15:38       0.0\n",
       "4         6110299100       220 1969-06-29 13:16:08       0.0\n",
       "...              ...       ...                 ...       ...\n",
       "15497320  2860194100       401 1969-06-29 23:58:03      35.7\n",
       "15497321  2860194100       401 1969-06-29 23:58:33      35.1\n",
       "15497322  2860194100       401 1969-06-29 23:59:03       0.0\n",
       "15497323  2860194100       401 1969-06-29 23:59:04       0.0\n",
       "15497324  2860194100       401 1969-06-29 23:59:33       0.0\n",
       "\n",
       "[15497325 rows x 4 columns]"
      ]
     },
     "execution_count": 64,
     "metadata": {},
     "output_type": "execute_result"
    }
   ],
   "source": [
    "df1=pd.read_pickle('/home/emil/Рабочий стол/ncrptd.pkl')\n",
    "df1.reset_index(inplace=True)\n",
    "\n",
    "df=pd.DataFrame(columns=['well_id', 'param_id', 'tm_time','tm_value'])\n",
    "df['well_id']=df1['wd']+2024\n",
    "df['param_id']=df1['pd']+1703\n",
    "df['tm_time']=df1['tt']-timedelta(days=10000)\n",
    "df['tm_value']=df1['tv']/1.1\n",
    "\n",
    "df"
   ]
  },
  {
   "cell_type": "code",
   "execution_count": 65,
   "id": "b8bb04c2",
   "metadata": {},
   "outputs": [
    {
     "name": "stderr",
     "output_type": "stream",
     "text": [
      "/tmp/ipykernel_4571/1239302328.py:9: SettingWithCopyWarning: \n",
      "A value is trying to be set on a copy of a slice from a DataFrame\n",
      "\n",
      "See the caveats in the documentation: https://pandas.pydata.org/pandas-docs/stable/user_guide/indexing.html#returning-a-view-versus-a-copy\n",
      "  df.sort_index(inplace=True)\n"
     ]
    }
   ],
   "source": [
    "df = data_split(df,well_id_int=6110299100,param_id_list=[188,200],package_size=50000, leftcut=5000)"
   ]
  },
  {
   "cell_type": "code",
   "execution_count": 62,
   "id": "ba0bdd98",
   "metadata": {
    "scrolled": true
   },
   "outputs": [
    {
     "data": {
      "text/plain": [
       "[param_id              188        200\n",
       " tm_time                             \n",
       " 1969-06-29 00:00:03  30.0  74.000000\n",
       " 1969-06-29 00:00:04  30.0  74.033333\n",
       " 1969-06-29 00:00:05  30.0  74.066667\n",
       " 1969-06-29 00:00:06  30.0  74.100000\n",
       " 1969-06-29 00:00:07  30.0  74.133333\n",
       " ...                   ...        ...\n",
       " 1969-06-29 13:53:18  31.0  75.000000\n",
       " 1969-06-29 13:53:19  31.0  75.000000\n",
       " 1969-06-29 13:53:20  31.0  75.000000\n",
       " 1969-06-29 13:53:21  31.0  75.000000\n",
       " 1969-06-29 13:53:22  31.0  75.000000\n",
       " \n",
       " [50000 rows x 2 columns],\n",
       " param_id              188   200\n",
       " tm_time                        \n",
       " 1969-06-29 01:23:23  30.0   0.0\n",
       " 1969-06-29 01:23:24  30.0   0.0\n",
       " 1969-06-29 01:23:25  30.0   0.0\n",
       " 1969-06-29 01:23:26  30.0   0.0\n",
       " 1969-06-29 01:23:27  30.0   0.0\n",
       " ...                   ...   ...\n",
       " 1969-06-29 23:59:36  30.0  74.0\n",
       " 1969-06-29 23:59:37  30.0  74.0\n",
       " 1969-06-29 23:59:38  30.0  74.0\n",
       " 1969-06-29 23:59:39  30.0  74.0\n",
       " 1969-06-29 23:59:40  30.0  74.0\n",
       " \n",
       " [81378 rows x 2 columns]]"
      ]
     },
     "execution_count": 62,
     "metadata": {},
     "output_type": "execute_result"
    }
   ],
   "source": [
    "df"
   ]
  },
  {
   "cell_type": "code",
   "execution_count": null,
   "id": "9a5c1ed0",
   "metadata": {},
   "outputs": [],
   "source": []
  }
 ],
 "metadata": {
  "kernelspec": {
   "display_name": "Python 3 (ipykernel)",
   "language": "python",
   "name": "python3"
  },
  "language_info": {
   "codemirror_mode": {
    "name": "ipython",
    "version": 3
   },
   "file_extension": ".py",
   "mimetype": "text/x-python",
   "name": "python",
   "nbconvert_exporter": "python",
   "pygments_lexer": "ipython3",
   "version": "3.11.5"
  }
 },
 "nbformat": 4,
 "nbformat_minor": 5
}
