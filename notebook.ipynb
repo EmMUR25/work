{
 "cells": [
  {
   "metadata": {
    "ExecuteTime": {
     "end_time": "2025-03-07T12:15:56.519080Z",
     "start_time": "2025-03-07T12:15:56.513065Z"
    }
   },
   "cell_type": "code",
   "source": [
    "import pandas as pd\n",
    "import numpy as np\n",
    "import time\n",
    "from datetime import timedelta,datetime"
   ],
   "id": "46f03f274a8ca3a0",
   "outputs": [],
   "execution_count": 184
  },
  {
   "metadata": {
    "ExecuteTime": {
     "end_time": "2025-03-07T14:20:58.383854Z",
     "start_time": "2025-03-07T14:20:58.370233Z"
    }
   },
   "cell_type": "code",
   "source": [
    "def data_split(df,well_id_int=6110299100,param_id_list=[188,200],package_size=1, leftcut=0,):\n",
    "    df=df.query('well_id == @well_id_int and param_id in @param_id_list')\n",
    "    del df['well_id']\n",
    "    # Устанавливаем tm_time как индекс\n",
    "    df.set_index('tm_time', inplace=True)\n",
    "\n",
    "    # Отсортируем по индексу\n",
    "    df.sort_index(inplace=True)\n",
    "\n",
    "    # Преобразование с помощью pivot\n",
    "    df = df.pivot(columns='param_id', values='tm_value')\n",
    "\n",
    "    # убираем верхний индекс param_id\n",
    "    df.columns.rename(None, inplace=True)\n",
    "\n",
    "    \"\"\" Интерполяция временного ряда до частоты 1 секунда. :param df: Исходный DataFrame с временными метками и значениями :return: Новый DataFrame с интервалом в 1 секунду \"\"\"\n",
    "    # Интерполирование к частоте в 1 секунду\n",
    "    df = df.resample('1s').mean().interpolate(method='linear', limit_direction='both')\n",
    "    return df"
   ],
   "id": "870fe3df48879b4",
   "outputs": [],
   "execution_count": 1
  },
  {
   "metadata": {
    "ExecuteTime": {
     "end_time": "2025-03-07T12:16:01.715211Z",
     "start_time": "2025-03-07T12:16:01.707415Z"
    }
   },
   "cell_type": "code",
   "source": [
    "def interpolate_to_1_second(df):\n",
    "    \"\"\" Интерполяция временного ряда до частоты 1 секунда. :param df: Исходный DataFrame с временными метками и значениями :return: Новый DataFrame с интервалом в 1 секунду \"\"\"\n",
    "    interpolated_df = df.resample('1s').mean().interpolate(method='linear', limit_direction='both')\n",
    "    return interpolated_df"
   ],
   "id": "3e833d2a8a6b7ba9",
   "outputs": [],
   "execution_count": 186
  },
  {
   "metadata": {
    "ExecuteTime": {
     "end_time": "2025-03-07T03:58:07.401494Z",
     "start_time": "2025-03-07T03:58:07.393009Z"
    }
   },
   "cell_type": "code",
   "source": [
    "def package_split(df, package_size=1, leftcut=0):\n",
    "    \"\"\" Разбивает временной ряд на пакеты заданного размера. :param df: Pandas Series или DataFrame с временными метками :param package_size: Размер каждого пакета (количество точек) :param leftcut: срез слева :return: Список пакетов (каждый пакет является DataFrame) \"\"\"\n",
    "    packages = []\n",
    "    current_packet = pd.DataFrame()  # Изначально пустой пакет\n",
    "    num_points = len(df)\n",
    "\n",
    "    # Идем по ряду с шагом package_size\n",
    "    for i in range(0, num_points, package_size):\n",
    "        # Берем кусок данных длиной package_size\n",
    "        package = df[i:i + package_size]\n",
    "\n",
    "         # Добавляем новые точки к текущему пакету\n",
    "        current_packet = pd.concat([current_packet[leftcut:], package])\n",
    "\n",
    "        # Добавляем пакет в список\n",
    "        packages.append(current_packet)\n",
    "\n",
    "    return packages\n"
   ],
   "id": "f343ec3eba910fcd",
   "outputs": [],
   "execution_count": 4
  },
  {
   "metadata": {
    "ExecuteTime": {
     "end_time": "2025-03-07T09:17:58.631916Z",
     "start_time": "2025-03-07T09:17:58.618709Z"
    }
   },
   "cell_type": "code",
   "source": [
    "# Пример DataFrame\n",
    "df = pd.DataFrame({\n",
    "    'values': [1, 2, 3, 4, 5, 6, 7, 8, 9, 10],\n",
    "    'timestamp': pd.date_range(start=\"2023-01-01\", periods=10, freq=\"s\")\n",
    "})\n",
    "\n",
    "# Установка индекса по временным меткам\n",
    "df.set_index('timestamp', inplace=True)\n",
    "\n",
    "\n",
    "df=package_split(df,package_size=4,leftcut=5)\n",
    "df"
   ],
   "id": "a0b2affe6190deb5",
   "outputs": [
    {
     "data": {
      "text/plain": [
       "[                     values\n",
       " timestamp                  \n",
       " 2023-01-01 00:00:00       1\n",
       " 2023-01-01 00:00:01       2\n",
       " 2023-01-01 00:00:02       3\n",
       " 2023-01-01 00:00:03       4,\n",
       "                      values\n",
       " timestamp                  \n",
       " 2023-01-01 00:00:04       5\n",
       " 2023-01-01 00:00:05       6\n",
       " 2023-01-01 00:00:06       7\n",
       " 2023-01-01 00:00:07       8,\n",
       "                      values\n",
       " timestamp                  \n",
       " 2023-01-01 00:00:08       9\n",
       " 2023-01-01 00:00:09      10]"
      ]
     },
     "execution_count": 179,
     "metadata": {},
     "output_type": "execute_result"
    }
   ],
   "execution_count": 179
  },
  {
   "metadata": {
    "ExecuteTime": {
     "end_time": "2025-03-07T13:49:32.900496Z",
     "start_time": "2025-03-07T13:49:32.889471Z"
    }
   },
   "cell_type": "code",
   "source": [
    "# Пример данных\n",
    "data = {\n",
    "    ('param_id', ''): ['188', '200'],\n",
    "    ('tm_time', '2024-04-01 00:00:03'): [30.0, 74.0],\n",
    "    ('tm_time', '2024-04-01 00:00:33'): [30.0, 75.0],\n",
    "    ('tm_time', '2024-04-01 00:01:03'): [30.0, 74.0]\n",
    "}\n",
    "\n",
    "# Создание DataFrame\n",
    "df = pd.DataFrame(data)\n",
    "\n",
    "# Удаление первого уровня индекса столбцов\n",
    "#df.columns = df.columns.droplevel(0)\n",
    "\n",
    "# Результат\n",
    "print(df)"
   ],
   "id": "2e327a1eb0f49f80",
   "outputs": [
    {
     "name": "stdout",
     "output_type": "stream",
     "text": [
      "  param_id             tm_time                                        \n",
      "           2024-04-01 00:00:03 2024-04-01 00:00:33 2024-04-01 00:01:03\n",
      "0      188                30.0                30.0                30.0\n",
      "1      200                74.0                75.0                74.0\n"
     ]
    }
   ],
   "execution_count": 252
  }
 ],
 "metadata": {
  "kernelspec": {
   "display_name": "Python 3",
   "language": "python",
   "name": "python3"
  },
  "language_info": {
   "codemirror_mode": {
    "name": "ipython",
    "version": 2
   },
   "file_extension": ".py",
   "mimetype": "text/x-python",
   "name": "python",
   "nbconvert_exporter": "python",
   "pygments_lexer": "ipython2",
   "version": "2.7.6"
  }
 },
 "nbformat": 4,
 "nbformat_minor": 5
}
